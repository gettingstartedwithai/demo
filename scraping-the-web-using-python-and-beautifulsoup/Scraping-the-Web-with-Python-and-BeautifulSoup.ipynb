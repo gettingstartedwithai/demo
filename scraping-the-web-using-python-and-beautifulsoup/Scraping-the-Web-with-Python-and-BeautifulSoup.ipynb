{
 "cells": [
  {
   "attachments": {},
   "cell_type": "markdown",
   "id": "9036a438",
   "metadata": {},
   "source": [
    "# Scraping the Web using Python and BeautifulSoup\n",
    "#### Follow this link for full post: [https://www.gettingstarted.ai/scraping-the-web-using-python-and-beautifulsoup/](https://www.gettingstarted.ai/scraping-the-web-using-python-and-beautifulsoup/)\n",
    "For this project, we're going to scrape country data from: https://www.scrapethissite.com. As you can tell from the domain name, the site's purpose is to help people understand web scraping. "
   ]
  },
  {
   "attachments": {},
   "cell_type": "markdown",
   "id": "b0673f47",
   "metadata": {},
   "source": [
    "## Import required modules"
   ]
  },
  {
   "cell_type": "code",
   "execution_count": 1,
   "id": "ada221a0",
   "metadata": {},
   "outputs": [],
   "source": [
    "# Import required libraries\n",
    "\n",
    "import requests\n",
    "from bs4 import BeautifulSoup\n",
    "import pandas as pd"
   ]
  },
  {
   "attachments": {},
   "cell_type": "markdown",
   "id": "4b401d76",
   "metadata": {},
   "source": [
    "## Retrieve content using GET method"
   ]
  },
  {
   "cell_type": "code",
   "execution_count": 2,
   "id": "c0af1d79",
   "metadata": {},
   "outputs": [],
   "source": [
    "url = \"https://www.scrapethissite.com/pages/simple/\"\n",
    "\n",
    "# Make a GET request\n",
    "response = requests.get(url)\n",
    "\n",
    "# Store the HTML content in html_content\n",
    "html_content = response.content"
   ]
  },
  {
   "attachments": {},
   "cell_type": "markdown",
   "id": "991f0727",
   "metadata": {},
   "source": [
    "## Parse HTML content using BeautifulSoup"
   ]
  },
  {
   "cell_type": "code",
   "execution_count": 3,
   "id": "8cd1cfe9",
   "metadata": {},
   "outputs": [],
   "source": [
    "## Instantiate BeautifulSoup object\n",
    "\n",
    "soup = BeautifulSoup(html_content, \"html.parser\")"
   ]
  },
  {
   "attachments": {},
   "cell_type": "markdown",
   "id": "57aa3338",
   "metadata": {},
   "source": [
    "## Retrieve all countries using a for loop"
   ]
  },
  {
   "cell_type": "code",
   "execution_count": 4,
   "id": "00661c73",
   "metadata": {},
   "outputs": [],
   "source": [
    "## Find all the div tags with class 'country'\n",
    "\n",
    "countries = soup.find_all(\"div\", class_=\"country\")\n",
    "\n",
    "data = []\n",
    "\n",
    "## Look through each tag and extract target text\n",
    "for country in countries:\n",
    "    name = country.find(\"h3\", class_=\"country-name\").text.strip()\n",
    "    capital = country.find(\"span\", class_=\"country-capital\").text.strip()\n",
    "    population = country.find(\"span\", class_=\"country-population\").text.strip()\n",
    "    area = country.find(\"span\", class_=\"country-area\").text.strip()\n",
    "\n",
    "    ## Add country and details to list `data`\n",
    "    data.append([name, capital, population, area])"
   ]
  },
  {
   "attachments": {},
   "cell_type": "markdown",
   "id": "9edcc87f",
   "metadata": {},
   "source": [
    "## Convert to pandas DataFrame"
   ]
  },
  {
   "cell_type": "code",
   "execution_count": 5,
   "id": "924e2bd6",
   "metadata": {},
   "outputs": [],
   "source": [
    "## Instantiate DataFrame with column names\n",
    "df = pd.DataFrame(data, columns=[\"Country Name\", \"Capital\", \"Population\", \"Area\"])\n",
    "\n",
    "## Convert column values to numeric\n",
    "df[\"Area\"] = pd.to_numeric(df[\"Area\"])\n",
    "df[\"Population\"] = pd.to_numeric(df[\"Population\"])"
   ]
  },
  {
   "attachments": {},
   "cell_type": "markdown",
   "id": "271fdbea",
   "metadata": {},
   "source": [
    "## Return first five rows in DataFrame"
   ]
  },
  {
   "cell_type": "code",
   "execution_count": 6,
   "id": "0e44c990",
   "metadata": {},
   "outputs": [
    {
     "data": {
      "text/html": [
       "<div>\n",
       "<style scoped>\n",
       "    .dataframe tbody tr th:only-of-type {\n",
       "        vertical-align: middle;\n",
       "    }\n",
       "\n",
       "    .dataframe tbody tr th {\n",
       "        vertical-align: top;\n",
       "    }\n",
       "\n",
       "    .dataframe thead th {\n",
       "        text-align: right;\n",
       "    }\n",
       "</style>\n",
       "<table border=\"1\" class=\"dataframe\">\n",
       "  <thead>\n",
       "    <tr style=\"text-align: right;\">\n",
       "      <th></th>\n",
       "      <th>Country Name</th>\n",
       "      <th>Capital</th>\n",
       "      <th>Population</th>\n",
       "      <th>Area</th>\n",
       "    </tr>\n",
       "  </thead>\n",
       "  <tbody>\n",
       "    <tr>\n",
       "      <th>0</th>\n",
       "      <td>Andorra</td>\n",
       "      <td>Andorra la Vella</td>\n",
       "      <td>84000</td>\n",
       "      <td>468.0</td>\n",
       "    </tr>\n",
       "    <tr>\n",
       "      <th>1</th>\n",
       "      <td>United Arab Emirates</td>\n",
       "      <td>Abu Dhabi</td>\n",
       "      <td>4975593</td>\n",
       "      <td>82880.0</td>\n",
       "    </tr>\n",
       "    <tr>\n",
       "      <th>2</th>\n",
       "      <td>Afghanistan</td>\n",
       "      <td>Kabul</td>\n",
       "      <td>29121286</td>\n",
       "      <td>647500.0</td>\n",
       "    </tr>\n",
       "    <tr>\n",
       "      <th>3</th>\n",
       "      <td>Antigua and Barbuda</td>\n",
       "      <td>St. John's</td>\n",
       "      <td>86754</td>\n",
       "      <td>443.0</td>\n",
       "    </tr>\n",
       "    <tr>\n",
       "      <th>4</th>\n",
       "      <td>Anguilla</td>\n",
       "      <td>The Valley</td>\n",
       "      <td>13254</td>\n",
       "      <td>102.0</td>\n",
       "    </tr>\n",
       "  </tbody>\n",
       "</table>\n",
       "</div>"
      ],
      "text/plain": [
       "           Country Name           Capital  Population      Area\n",
       "0               Andorra  Andorra la Vella       84000     468.0\n",
       "1  United Arab Emirates         Abu Dhabi     4975593   82880.0\n",
       "2           Afghanistan             Kabul    29121286  647500.0\n",
       "3   Antigua and Barbuda        St. John's       86754     443.0\n",
       "4              Anguilla        The Valley       13254     102.0"
      ]
     },
     "execution_count": 6,
     "metadata": {},
     "output_type": "execute_result"
    }
   ],
   "source": [
    "# Print first five rows in DataFrame\n",
    "df.head()"
   ]
  },
  {
   "attachments": {},
   "cell_type": "markdown",
   "id": "2bf5c4b4",
   "metadata": {},
   "source": [
    "## Sort alphabetically by country name"
   ]
  },
  {
   "cell_type": "code",
   "execution_count": 7,
   "id": "f0d899fe",
   "metadata": {},
   "outputs": [
    {
     "data": {
      "text/html": [
       "<div>\n",
       "<style scoped>\n",
       "    .dataframe tbody tr th:only-of-type {\n",
       "        vertical-align: middle;\n",
       "    }\n",
       "\n",
       "    .dataframe tbody tr th {\n",
       "        vertical-align: top;\n",
       "    }\n",
       "\n",
       "    .dataframe thead th {\n",
       "        text-align: right;\n",
       "    }\n",
       "</style>\n",
       "<table border=\"1\" class=\"dataframe\">\n",
       "  <thead>\n",
       "    <tr style=\"text-align: right;\">\n",
       "      <th></th>\n",
       "      <th>Country Name</th>\n",
       "      <th>Capital</th>\n",
       "      <th>Population</th>\n",
       "      <th>Area</th>\n",
       "    </tr>\n",
       "  </thead>\n",
       "  <tbody>\n",
       "    <tr>\n",
       "      <th>2</th>\n",
       "      <td>Afghanistan</td>\n",
       "      <td>Kabul</td>\n",
       "      <td>29121286</td>\n",
       "      <td>647500.0</td>\n",
       "    </tr>\n",
       "    <tr>\n",
       "      <th>5</th>\n",
       "      <td>Albania</td>\n",
       "      <td>Tirana</td>\n",
       "      <td>2986952</td>\n",
       "      <td>28748.0</td>\n",
       "    </tr>\n",
       "    <tr>\n",
       "      <th>61</th>\n",
       "      <td>Algeria</td>\n",
       "      <td>Algiers</td>\n",
       "      <td>34586184</td>\n",
       "      <td>2381740.0</td>\n",
       "    </tr>\n",
       "    <tr>\n",
       "      <th>10</th>\n",
       "      <td>American Samoa</td>\n",
       "      <td>Pago Pago</td>\n",
       "      <td>57881</td>\n",
       "      <td>199.0</td>\n",
       "    </tr>\n",
       "    <tr>\n",
       "      <th>0</th>\n",
       "      <td>Andorra</td>\n",
       "      <td>Andorra la Vella</td>\n",
       "      <td>84000</td>\n",
       "      <td>468.0</td>\n",
       "    </tr>\n",
       "  </tbody>\n",
       "</table>\n",
       "</div>"
      ],
      "text/plain": [
       "      Country Name           Capital  Population       Area\n",
       "2      Afghanistan             Kabul    29121286   647500.0\n",
       "5          Albania            Tirana     2986952    28748.0\n",
       "61         Algeria           Algiers    34586184  2381740.0\n",
       "10  American Samoa         Pago Pago       57881      199.0\n",
       "0          Andorra  Andorra la Vella       84000      468.0"
      ]
     },
     "execution_count": 7,
     "metadata": {},
     "output_type": "execute_result"
    }
   ],
   "source": [
    "# Sort the dataframe by the \"Country Name\" column in alphabetical order\n",
    "df = df.sort_values(by=\"Country Name\")\n",
    "\n",
    "# Print first five rows in DataFrame\n",
    "df.head()"
   ]
  },
  {
   "attachments": {},
   "cell_type": "markdown",
   "id": "7da5edbe",
   "metadata": {},
   "source": [
    "## Get top 5 largest countries by area"
   ]
  },
  {
   "cell_type": "code",
   "execution_count": 8,
   "id": "1e88774a",
   "metadata": {
    "scrolled": true
   },
   "outputs": [
    {
     "name": "stdout",
     "output_type": "stream",
     "text": [
      "Top 5 Countries with the Biggest Area:\n"
     ]
    },
    {
     "data": {
      "text/html": [
       "<div>\n",
       "<style scoped>\n",
       "    .dataframe tbody tr th:only-of-type {\n",
       "        vertical-align: middle;\n",
       "    }\n",
       "\n",
       "    .dataframe tbody tr th {\n",
       "        vertical-align: top;\n",
       "    }\n",
       "\n",
       "    .dataframe thead th {\n",
       "        text-align: right;\n",
       "    }\n",
       "</style>\n",
       "<table border=\"1\" class=\"dataframe\">\n",
       "  <thead>\n",
       "    <tr style=\"text-align: right;\">\n",
       "      <th></th>\n",
       "      <th>Country Name</th>\n",
       "      <th>Capital</th>\n",
       "      <th>Population</th>\n",
       "      <th>Area</th>\n",
       "    </tr>\n",
       "  </thead>\n",
       "  <tbody>\n",
       "    <tr>\n",
       "      <th>190</th>\n",
       "      <td>Russia</td>\n",
       "      <td>Moscow</td>\n",
       "      <td>140702000</td>\n",
       "      <td>17100000.0</td>\n",
       "    </tr>\n",
       "    <tr>\n",
       "      <th>8</th>\n",
       "      <td>Antarctica</td>\n",
       "      <td>None</td>\n",
       "      <td>0</td>\n",
       "      <td>14000000.0</td>\n",
       "    </tr>\n",
       "    <tr>\n",
       "      <th>37</th>\n",
       "      <td>Canada</td>\n",
       "      <td>Ottawa</td>\n",
       "      <td>33679000</td>\n",
       "      <td>9984670.0</td>\n",
       "    </tr>\n",
       "    <tr>\n",
       "      <th>232</th>\n",
       "      <td>United States</td>\n",
       "      <td>Washington</td>\n",
       "      <td>310232863</td>\n",
       "      <td>9629091.0</td>\n",
       "    </tr>\n",
       "    <tr>\n",
       "      <th>47</th>\n",
       "      <td>China</td>\n",
       "      <td>Beijing</td>\n",
       "      <td>1330044000</td>\n",
       "      <td>9596960.0</td>\n",
       "    </tr>\n",
       "    <tr>\n",
       "      <th>30</th>\n",
       "      <td>Brazil</td>\n",
       "      <td>Brasília</td>\n",
       "      <td>201103330</td>\n",
       "      <td>8511965.0</td>\n",
       "    </tr>\n",
       "    <tr>\n",
       "      <th>12</th>\n",
       "      <td>Australia</td>\n",
       "      <td>Canberra</td>\n",
       "      <td>21515754</td>\n",
       "      <td>7686850.0</td>\n",
       "    </tr>\n",
       "    <tr>\n",
       "      <th>104</th>\n",
       "      <td>India</td>\n",
       "      <td>New Delhi</td>\n",
       "      <td>1173108018</td>\n",
       "      <td>3287590.0</td>\n",
       "    </tr>\n",
       "    <tr>\n",
       "      <th>9</th>\n",
       "      <td>Argentina</td>\n",
       "      <td>Buenos Aires</td>\n",
       "      <td>41343201</td>\n",
       "      <td>2766890.0</td>\n",
       "    </tr>\n",
       "    <tr>\n",
       "      <th>124</th>\n",
       "      <td>Kazakhstan</td>\n",
       "      <td>Astana</td>\n",
       "      <td>15340000</td>\n",
       "      <td>2717300.0</td>\n",
       "    </tr>\n",
       "  </tbody>\n",
       "</table>\n",
       "</div>"
      ],
      "text/plain": [
       "      Country Name       Capital  Population        Area\n",
       "190         Russia        Moscow   140702000  17100000.0\n",
       "8       Antarctica          None           0  14000000.0\n",
       "37          Canada        Ottawa    33679000   9984670.0\n",
       "232  United States    Washington   310232863   9629091.0\n",
       "47           China       Beijing  1330044000   9596960.0\n",
       "30          Brazil      Brasília   201103330   8511965.0\n",
       "12       Australia      Canberra    21515754   7686850.0\n",
       "104          India     New Delhi  1173108018   3287590.0\n",
       "9        Argentina  Buenos Aires    41343201   2766890.0\n",
       "124     Kazakhstan        Astana    15340000   2717300.0"
      ]
     },
     "execution_count": 8,
     "metadata": {},
     "output_type": "execute_result"
    }
   ],
   "source": [
    "# Sort the dataframe by the \"Area\" column in descending order\n",
    "sorted_by_area = df.sort_values(by=\"Area\", ascending=False)\n",
    "\n",
    "# Retrieve the top five countries with the biggest area\n",
    "top_countries_by_area = sorted_by_area.head(10)\n",
    "\n",
    "print(\"Top 5 Countries with the Biggest Area:\")\n",
    "top_countries_by_area"
   ]
  },
  {
   "attachments": {},
   "cell_type": "markdown",
   "id": "cef3193e",
   "metadata": {},
   "source": [
    "## Get top 5 most populated countries"
   ]
  },
  {
   "cell_type": "code",
   "execution_count": 9,
   "id": "c723c2f8",
   "metadata": {},
   "outputs": [
    {
     "data": {
      "text/html": [
       "<div>\n",
       "<style scoped>\n",
       "    .dataframe tbody tr th:only-of-type {\n",
       "        vertical-align: middle;\n",
       "    }\n",
       "\n",
       "    .dataframe tbody tr th {\n",
       "        vertical-align: top;\n",
       "    }\n",
       "\n",
       "    .dataframe thead th {\n",
       "        text-align: right;\n",
       "    }\n",
       "</style>\n",
       "<table border=\"1\" class=\"dataframe\">\n",
       "  <thead>\n",
       "    <tr style=\"text-align: right;\">\n",
       "      <th></th>\n",
       "      <th>Country Name</th>\n",
       "      <th>Capital</th>\n",
       "      <th>Population</th>\n",
       "      <th>Area</th>\n",
       "    </tr>\n",
       "  </thead>\n",
       "  <tbody>\n",
       "    <tr>\n",
       "      <th>47</th>\n",
       "      <td>China</td>\n",
       "      <td>Beijing</td>\n",
       "      <td>1330044000</td>\n",
       "      <td>9596960.0</td>\n",
       "    </tr>\n",
       "    <tr>\n",
       "      <th>104</th>\n",
       "      <td>India</td>\n",
       "      <td>New Delhi</td>\n",
       "      <td>1173108018</td>\n",
       "      <td>3287590.0</td>\n",
       "    </tr>\n",
       "    <tr>\n",
       "      <th>232</th>\n",
       "      <td>United States</td>\n",
       "      <td>Washington</td>\n",
       "      <td>310232863</td>\n",
       "      <td>9629091.0</td>\n",
       "    </tr>\n",
       "    <tr>\n",
       "      <th>100</th>\n",
       "      <td>Indonesia</td>\n",
       "      <td>Jakarta</td>\n",
       "      <td>242968342</td>\n",
       "      <td>1919440.0</td>\n",
       "    </tr>\n",
       "    <tr>\n",
       "      <th>30</th>\n",
       "      <td>Brazil</td>\n",
       "      <td>Brasília</td>\n",
       "      <td>201103330</td>\n",
       "      <td>8511965.0</td>\n",
       "    </tr>\n",
       "    <tr>\n",
       "      <th>177</th>\n",
       "      <td>Pakistan</td>\n",
       "      <td>Islamabad</td>\n",
       "      <td>184404791</td>\n",
       "      <td>803940.0</td>\n",
       "    </tr>\n",
       "    <tr>\n",
       "      <th>18</th>\n",
       "      <td>Bangladesh</td>\n",
       "      <td>Dhaka</td>\n",
       "      <td>156118464</td>\n",
       "      <td>144000.0</td>\n",
       "    </tr>\n",
       "    <tr>\n",
       "      <th>163</th>\n",
       "      <td>Nigeria</td>\n",
       "      <td>Abuja</td>\n",
       "      <td>154000000</td>\n",
       "      <td>923768.0</td>\n",
       "    </tr>\n",
       "    <tr>\n",
       "      <th>190</th>\n",
       "      <td>Russia</td>\n",
       "      <td>Moscow</td>\n",
       "      <td>140702000</td>\n",
       "      <td>17100000.0</td>\n",
       "    </tr>\n",
       "    <tr>\n",
       "      <th>113</th>\n",
       "      <td>Japan</td>\n",
       "      <td>Tokyo</td>\n",
       "      <td>127288000</td>\n",
       "      <td>377835.0</td>\n",
       "    </tr>\n",
       "  </tbody>\n",
       "</table>\n",
       "</div>"
      ],
      "text/plain": [
       "      Country Name     Capital  Population        Area\n",
       "47           China     Beijing  1330044000   9596960.0\n",
       "104          India   New Delhi  1173108018   3287590.0\n",
       "232  United States  Washington   310232863   9629091.0\n",
       "100      Indonesia     Jakarta   242968342   1919440.0\n",
       "30          Brazil    Brasília   201103330   8511965.0\n",
       "177       Pakistan   Islamabad   184404791    803940.0\n",
       "18      Bangladesh       Dhaka   156118464    144000.0\n",
       "163        Nigeria       Abuja   154000000    923768.0\n",
       "190         Russia      Moscow   140702000  17100000.0\n",
       "113          Japan       Tokyo   127288000    377835.0"
      ]
     },
     "execution_count": 9,
     "metadata": {},
     "output_type": "execute_result"
    }
   ],
   "source": [
    "# Sort the dataframe by the \"Population\" column in descending order\n",
    "sorted_by_population = df.sort_values(by=\"Population\", ascending=False)\n",
    "\n",
    "# Retrieve the top five countries with the largest population\n",
    "top_countries_by_population = sorted_by_population.head(10)\n",
    "\n",
    "top_countries_by_population"
   ]
  },
  {
   "attachments": {},
   "cell_type": "markdown",
   "id": "410c126f",
   "metadata": {},
   "source": [
    "## Calculate population density"
   ]
  },
  {
   "cell_type": "code",
   "execution_count": 10,
   "id": "09163b7d",
   "metadata": {},
   "outputs": [
    {
     "name": "stdout",
     "output_type": "stream",
     "text": [
      "Top 5 Countries with the Highest Population Density (%):\n"
     ]
    },
    {
     "data": {
      "text/html": [
       "<div>\n",
       "<style scoped>\n",
       "    .dataframe tbody tr th:only-of-type {\n",
       "        vertical-align: middle;\n",
       "    }\n",
       "\n",
       "    .dataframe tbody tr th {\n",
       "        vertical-align: top;\n",
       "    }\n",
       "\n",
       "    .dataframe thead th {\n",
       "        text-align: right;\n",
       "    }\n",
       "</style>\n",
       "<table border=\"1\" class=\"dataframe\">\n",
       "  <thead>\n",
       "    <tr style=\"text-align: right;\">\n",
       "      <th></th>\n",
       "      <th>Country Name</th>\n",
       "      <th>Capital</th>\n",
       "      <th>Population</th>\n",
       "      <th>Area</th>\n",
       "      <th>Population Density</th>\n",
       "    </tr>\n",
       "  </thead>\n",
       "  <tbody>\n",
       "    <tr>\n",
       "      <th>137</th>\n",
       "      <td>Monaco</td>\n",
       "      <td>Monaco</td>\n",
       "      <td>32965</td>\n",
       "      <td>1.95</td>\n",
       "      <td>16905.128205</td>\n",
       "    </tr>\n",
       "    <tr>\n",
       "      <th>197</th>\n",
       "      <td>Singapore</td>\n",
       "      <td>Singapore</td>\n",
       "      <td>4701069</td>\n",
       "      <td>692.70</td>\n",
       "      <td>6786.587267</td>\n",
       "    </tr>\n",
       "    <tr>\n",
       "      <th>94</th>\n",
       "      <td>Hong Kong</td>\n",
       "      <td>Hong Kong</td>\n",
       "      <td>6898686</td>\n",
       "      <td>1092.00</td>\n",
       "      <td>6317.478022</td>\n",
       "    </tr>\n",
       "    <tr>\n",
       "      <th>82</th>\n",
       "      <td>Gibraltar</td>\n",
       "      <td>Gibraltar</td>\n",
       "      <td>27884</td>\n",
       "      <td>6.50</td>\n",
       "      <td>4289.846154</td>\n",
       "    </tr>\n",
       "    <tr>\n",
       "      <th>235</th>\n",
       "      <td>Vatican City</td>\n",
       "      <td>Vatican City</td>\n",
       "      <td>921</td>\n",
       "      <td>0.44</td>\n",
       "      <td>2093.181818</td>\n",
       "    </tr>\n",
       "  </tbody>\n",
       "</table>\n",
       "</div>"
      ],
      "text/plain": [
       "     Country Name       Capital  Population     Area  Population Density\n",
       "137        Monaco        Monaco       32965     1.95        16905.128205\n",
       "197     Singapore     Singapore     4701069   692.70         6786.587267\n",
       "94      Hong Kong     Hong Kong     6898686  1092.00         6317.478022\n",
       "82      Gibraltar     Gibraltar       27884     6.50         4289.846154\n",
       "235  Vatican City  Vatican City         921     0.44         2093.181818"
      ]
     },
     "execution_count": 10,
     "metadata": {},
     "output_type": "execute_result"
    }
   ],
   "source": [
    "# Calculate population density as population divided by area\n",
    "df[\"Population Density\"] = df[\"Population\"] / df[\"Area\"]\n",
    "\n",
    "# Sort the dataframe by the \"Population Density\" column in descending order\n",
    "sorted_by_density = df.sort_values(by=\"Population Density\", ascending=False)\n",
    "\n",
    "# Retrieve the top five countries with the highest population density compared to area percentage\n",
    "top_countries_by_density = sorted_by_density.head(5)\n",
    "\n",
    "print(\"Top 5 Countries with the Highest Population Density (%):\")\n",
    "top_countries_by_density"
   ]
  },
  {
   "attachments": {},
   "cell_type": "markdown",
   "id": "c6aedf9f",
   "metadata": {},
   "source": [
    "## Save DataFrame as a CSV file"
   ]
  },
  {
   "cell_type": "code",
   "execution_count": 11,
   "id": "6152337c",
   "metadata": {},
   "outputs": [],
   "source": [
    "df.to_csv(\"country_data.csv\", index=False)"
   ]
  },
  {
   "attachments": {},
   "cell_type": "markdown",
   "id": "6a251c44",
   "metadata": {},
   "source": [
    "### Author\n",
    "jeff @ [gettingstarted.ai](https://www.gettingstarted.ai) &copy; 2023"
   ]
  }
 ],
 "metadata": {
  "kernelspec": {
   "display_name": "Python 3 (ipykernel)",
   "language": "python",
   "name": "python3"
  },
  "language_info": {
   "codemirror_mode": {
    "name": "ipython",
    "version": 3
   },
   "file_extension": ".py",
   "mimetype": "text/x-python",
   "name": "python",
   "nbconvert_exporter": "python",
   "pygments_lexer": "ipython3",
   "version": "3.10.11"
  }
 },
 "nbformat": 4,
 "nbformat_minor": 5
}
